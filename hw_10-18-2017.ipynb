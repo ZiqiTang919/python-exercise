{
 "cells": [
  {
   "cell_type": "code",
   "execution_count": 7,
   "metadata": {
    "collapsed": true
   },
   "outputs": [],
   "source": [
    "import pandas as pd\n",
    "data = pd.read_csv(\"query_smiles_for_tc_train_anonymized.csv\",sep='\\t')"
   ]
  },
  {
   "cell_type": "code",
   "execution_count": 32,
   "metadata": {},
   "outputs": [
    {
     "data": {
      "text/html": [
       "<div>\n",
       "<style>\n",
       "    .dataframe thead tr:only-child th {\n",
       "        text-align: right;\n",
       "    }\n",
       "\n",
       "    .dataframe thead th {\n",
       "        text-align: left;\n",
       "    }\n",
       "\n",
       "    .dataframe tbody tr th {\n",
       "        vertical-align: top;\n",
       "    }\n",
       "</style>\n",
       "<table border=\"1\" class=\"dataframe\">\n",
       "  <thead>\n",
       "    <tr style=\"text-align: right;\">\n",
       "      <th></th>\n",
       "      <th>Unnamed: 0</th>\n",
       "      <th>Target</th>\n",
       "      <th>Molecule_ID</th>\n",
       "      <th>Activity</th>\n",
       "      <th>SMILES</th>\n",
       "    </tr>\n",
       "  </thead>\n",
       "  <tbody>\n",
       "    <tr>\n",
       "      <th>0</th>\n",
       "      <td>0</td>\n",
       "      <td>B</td>\n",
       "      <td>0</td>\n",
       "      <td>1.80</td>\n",
       "      <td>CC(C)Oc1ccccc1N2CCN(Cc3cccc(c3)C(=O)N4CCCCC4)CC2</td>\n",
       "    </tr>\n",
       "    <tr>\n",
       "      <th>1</th>\n",
       "      <td>1</td>\n",
       "      <td>B</td>\n",
       "      <td>1</td>\n",
       "      <td>281.50</td>\n",
       "      <td>Oc1ccccc1OCCNCc2ccccc2</td>\n",
       "    </tr>\n",
       "    <tr>\n",
       "      <th>2</th>\n",
       "      <td>2</td>\n",
       "      <td>B</td>\n",
       "      <td>2</td>\n",
       "      <td>83.00</td>\n",
       "      <td>Oc1ccc2CCC3C(OCCN3CCc4cccs4)c2c1</td>\n",
       "    </tr>\n",
       "    <tr>\n",
       "      <th>3</th>\n",
       "      <td>3</td>\n",
       "      <td>B</td>\n",
       "      <td>3</td>\n",
       "      <td>27.80</td>\n",
       "      <td>CS(=O)(=O)Nc1cc(OCCNCc2cccs2)ccc1Cl</td>\n",
       "    </tr>\n",
       "    <tr>\n",
       "      <th>4</th>\n",
       "      <td>4</td>\n",
       "      <td>B</td>\n",
       "      <td>4</td>\n",
       "      <td>0.21</td>\n",
       "      <td>CCCN1CCOC2C1CCc3ccc(O)cc23</td>\n",
       "    </tr>\n",
       "  </tbody>\n",
       "</table>\n",
       "</div>"
      ],
      "text/plain": [
       "   Unnamed: 0 Target  Molecule_ID  Activity  \\\n",
       "0           0      B            0      1.80   \n",
       "1           1      B            1    281.50   \n",
       "2           2      B            2     83.00   \n",
       "3           3      B            3     27.80   \n",
       "4           4      B            4      0.21   \n",
       "\n",
       "                                             SMILES  \n",
       "0  CC(C)Oc1ccccc1N2CCN(Cc3cccc(c3)C(=O)N4CCCCC4)CC2  \n",
       "1                            Oc1ccccc1OCCNCc2ccccc2  \n",
       "2                  Oc1ccc2CCC3C(OCCN3CCc4cccs4)c2c1  \n",
       "3               CS(=O)(=O)Nc1cc(OCCNCc2cccs2)ccc1Cl  \n",
       "4                        CCCN1CCOC2C1CCc3ccc(O)cc23  "
      ]
     },
     "execution_count": 32,
     "metadata": {},
     "output_type": "execute_result"
    }
   ],
   "source": [
    "data.head()"
   ]
  },
  {
   "cell_type": "code",
   "execution_count": 53,
   "metadata": {
    "collapsed": true
   },
   "outputs": [],
   "source": [
    "from rdkit import Chem\n",
    "from rdkit import DataStructs\n",
    "from rdkit.Chem import AllChem\n",
    "\n",
    "query_mol = Chem.MolFromSmiles('OC1(CCN(CCCC(=O)c2ccc(F)cc2)CC1)c3ccc(Cl)cc3')\n",
    "mols = [Chem.MolFromSmiles(s) for s in data['SMILES']]\n",
    "\n",
    "query_fp = AllChem.GetMorganFingerprintAsBitVect(query_mol, 4, nBits = 1024) # radius = 4\n",
    "fps = [AllChem.GetMorganFingerprintAsBitVect(m, 4, nBits = 1024) for m in mols]"
   ]
  },
  {
   "cell_type": "markdown",
   "metadata": {},
   "source": [
    "I don't know what radius should I set"
   ]
  },
  {
   "cell_type": "code",
   "execution_count": 54,
   "metadata": {
    "collapsed": true
   },
   "outputs": [],
   "source": [
    "TanimotoSimilarity = [DataStructs.FingerprintSimilarity(query_fp, fp) for fp in fps]"
   ]
  },
  {
   "cell_type": "code",
   "execution_count": 55,
   "metadata": {
    "collapsed": true
   },
   "outputs": [],
   "source": [
    "def convert_to_pki(affinities):\n",
    "\t    \"\"\"Returns value in new_min to new_max scale\n",
    "\t\n",
    "\t    Parameters\n",
    "\t    ----------\n",
    "\t    affinities : np.float32 or pd.DataFrame\n",
    "\t        value to convert (in nanomolar)\n",
    "\t\n",
    "\t    Returns\n",
    "\t    ----------\n",
    "\t    new_val : np.float32\n",
    "\t        new value as pKi\n",
    "\t    \"\"\"\n",
    "\t\n",
    "\t    if isinstance(affinities, pd.DataFrame):\n",
    "\t        affinities = -np.log10(affinities)\n",
    "\t        affinities += 9\n",
    "\t    elif isinstance(affinities, np.ndarray):\n",
    "\t        nonzeros = np.nonzero(affinities)\n",
    "\t        affinities[nonzeros] = -np.log10(affinities[nonzeros])\n",
    "\t        affinities[nonzeros] += 9\n",
    "\t    elif isinstance(affinities, numbers.Number):\n",
    "\t        affinities = 9 - np.log10(affinities)\n",
    "\t    else:\n",
    "\t        raise TypeError(\"only numpy ndarray and pandas dataframe types are supported. {} was found\"\n",
    "\t                        .format(type(affinities)))\n",
    "\t    return affinities"
   ]
  },
  {
   "cell_type": "code",
   "execution_count": 56,
   "metadata": {
    "scrolled": false
   },
   "outputs": [
    {
     "data": {
      "image/png": "[encoded data removed]",
      "text/plain": [
       "<matplotlib.figure.Figure at 0x7f5417295f98>"
      ]
     },
     "metadata": {},
     "output_type": "display_data"
    }
   ],
   "source": [
    "import numpy as np\n",
    "import numbers\n",
    "import matplotlib\n",
    "import matplotlib.pyplot as plt\n",
    "\n",
    "#plt.style.use('seaborn-whitegrid')\n",
    "plt.scatter([convert_to_pki(a) for a in data['Activity']], TanimotoSimilarity, marker = '.', color = 'black')\n",
    "#plt.scatter(data['Activity'], TanimotoSimilarity, maker = '.')\n",
    "plt.show()"
   ]
  }
 ],
 "metadata": {
  "kernelspec": {
   "display_name": "Python 3",
   "language": "python",
   "name": "python3"
  },
  "language_info": {
   "codemirror_mode": {
    "name": "ipython",
    "version": 3
   },
   "file_extension": ".py",
   "mimetype": "text/x-python",
   "name": "python",
   "nbconvert_exporter": "python",
   "pygments_lexer": "ipython3",
   "version": "3.6.3"
  }
 },
 "nbformat": 4,
 "nbformat_minor": 2
}
