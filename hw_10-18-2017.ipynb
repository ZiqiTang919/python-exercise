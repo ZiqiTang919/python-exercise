{
 "cells": [
  {
   "cell_type": "markdown",
   "metadata": {},
   "source": [
    "# Homework from Elena"
   ]
  },
  {
   "cell_type": "markdown",
   "metadata": {},
   "source": []
  },
  {
   "cell_type": "code",
   "execution_count": 93,
   "metadata": {
    "collapsed": true
   },
   "outputs": [],
   "source": [
    "import pandas as pd\n",
    "import numpy as np\n",
    "import numbers\n",
    "\n",
    "#helper function to convert x to -log(x)\n",
    "\n",
    "def convert_to_pki(affinities):               \n",
    "\t    \"\"\"Returns value in new_min to new_max scale\n",
    "\t\n",
    "\t    Parameters\n",
    "\t    ----------\n",
    "\t    affinities : np.float32 or pd.DataFrame\n",
    "\t        value to convert (in nanomolar)\n",
    "\t\n",
    "\t    Returns\n",
    "\t    ----------\n",
    "\t    new_val : np.float32\n",
    "\t        new value as pKi\n",
    "\t    \"\"\"\n",
    "\t\n",
    "\t    if isinstance(affinities, pd.DataFrame):\n",
    "\t        affinities = -np.log10(affinities)\n",
    "\t        affinities += 9\n",
    "\t    elif isinstance(affinities, np.ndarray):\n",
    "\t        nonzeros = np.nonzero(affinities)\n",
    "\t        affinities[nonzeros] = -np.log10(affinities[nonzeros])\n",
    "\t        affinities[nonzeros] += 9\n",
    "\t    elif isinstance(affinities, numbers.Number):\n",
    "\t        affinities = 9 - np.log10(affinities)\n",
    "\t    else:\n",
    "\t        raise TypeError(\"only numpy ndarray and pandas dataframe types are supported. {} was found\"\n",
    "\t                        .format(type(affinities)))\n",
    "\t    return affinities\n"
   ]
  },
  {
   "cell_type": "markdown",
   "metadata": {},
   "source": [
    "### 1. Read  an anonymous protein's binding data for a set of molecules"
   ]
  },
  {
   "cell_type": "code",
   "execution_count": 94,
   "metadata": {
    "scrolled": true
   },
   "outputs": [
    {
     "data": {
      "text/html": [
       "<div>\n",
       "<style>\n",
       "    .dataframe thead tr:only-child th {\n",
       "        text-align: right;\n",
       "    }\n",
       "\n",
       "    .dataframe thead th {\n",
       "        text-align: left;\n",
       "    }\n",
       "\n",
       "    .dataframe tbody tr th {\n",
       "        vertical-align: top;\n",
       "    }\n",
       "</style>\n",
       "<table border=\"1\" class=\"dataframe\">\n",
       "  <thead>\n",
       "    <tr style=\"text-align: right;\">\n",
       "      <th></th>\n",
       "      <th>Target</th>\n",
       "      <th>Molecule_ID</th>\n",
       "      <th>Activity</th>\n",
       "      <th>-log(nm)</th>\n",
       "      <th>SMILES</th>\n",
       "      <th>binder</th>\n",
       "    </tr>\n",
       "  </thead>\n",
       "  <tbody>\n",
       "    <tr>\n",
       "      <th>0</th>\n",
       "      <td>B</td>\n",
       "      <td>0</td>\n",
       "      <td>1.80</td>\n",
       "      <td>8.744727</td>\n",
       "      <td>CC(C)Oc1ccccc1N2CCN(Cc3cccc(c3)C(=O)N4CCCCC4)CC2</td>\n",
       "      <td>True</td>\n",
       "    </tr>\n",
       "    <tr>\n",
       "      <th>1</th>\n",
       "      <td>B</td>\n",
       "      <td>1</td>\n",
       "      <td>281.50</td>\n",
       "      <td>6.550522</td>\n",
       "      <td>Oc1ccccc1OCCNCc2ccccc2</td>\n",
       "      <td>True</td>\n",
       "    </tr>\n",
       "    <tr>\n",
       "      <th>2</th>\n",
       "      <td>B</td>\n",
       "      <td>2</td>\n",
       "      <td>83.00</td>\n",
       "      <td>7.080922</td>\n",
       "      <td>Oc1ccc2CCC3C(OCCN3CCc4cccs4)c2c1</td>\n",
       "      <td>True</td>\n",
       "    </tr>\n",
       "    <tr>\n",
       "      <th>3</th>\n",
       "      <td>B</td>\n",
       "      <td>3</td>\n",
       "      <td>27.80</td>\n",
       "      <td>7.555955</td>\n",
       "      <td>CS(=O)(=O)Nc1cc(OCCNCc2cccs2)ccc1Cl</td>\n",
       "      <td>True</td>\n",
       "    </tr>\n",
       "    <tr>\n",
       "      <th>4</th>\n",
       "      <td>B</td>\n",
       "      <td>4</td>\n",
       "      <td>0.21</td>\n",
       "      <td>9.677781</td>\n",
       "      <td>CCCN1CCOC2C1CCc3ccc(O)cc23</td>\n",
       "      <td>True</td>\n",
       "    </tr>\n",
       "  </tbody>\n",
       "</table>\n",
       "</div>"
      ],
      "text/plain": [
       "  Target  Molecule_ID  Activity  -log(nm)  \\\n",
       "0      B            0      1.80  8.744727   \n",
       "1      B            1    281.50  6.550522   \n",
       "2      B            2     83.00  7.080922   \n",
       "3      B            3     27.80  7.555955   \n",
       "4      B            4      0.21  9.677781   \n",
       "\n",
       "                                             SMILES  binder  \n",
       "0  CC(C)Oc1ccccc1N2CCN(Cc3cccc(c3)C(=O)N4CCCCC4)CC2    True  \n",
       "1                            Oc1ccccc1OCCNCc2ccccc2    True  \n",
       "2                  Oc1ccc2CCC3C(OCCN3CCc4cccs4)c2c1    True  \n",
       "3               CS(=O)(=O)Nc1cc(OCCNCc2cccs2)ccc1Cl    True  \n",
       "4                        CCCN1CCOC2C1CCc3ccc(O)cc23    True  "
      ]
     },
     "execution_count": 94,
     "metadata": {},
     "output_type": "execute_result"
    }
   ],
   "source": [
    "data = pd.read_csv(\"query_smiles_for_tc_train_anonymized.csv\",sep='\\t', index_col = 0)\n",
    "\n",
    "data.insert(3, '-log(nm)', [convert_to_pki(affinities) for affinities in data['Activity']]) # convert avtivity to -log(nm)\n",
    "data['binder'] = data['-log(nm)'] > 5.0   # molecules have -log(nM) bigger than 5.0 are considered as binders to the protein\n",
    "\n",
    "data.head()"
   ]
  },
  {
   "cell_type": "markdown",
   "metadata": {},
   "source": [
    "### 2. Generate ECFP fingerprints and calculate the Tanimoto Similarity"
   ]
  },
  {
   "cell_type": "code",
   "execution_count": 95,
   "metadata": {},
   "outputs": [
    {
     "data": {
      "text/html": [
       "<div>\n",
       "<style>\n",
       "    .dataframe thead tr:only-child th {\n",
       "        text-align: right;\n",
       "    }\n",
       "\n",
       "    .dataframe thead th {\n",
       "        text-align: left;\n",
       "    }\n",
       "\n",
       "    .dataframe tbody tr th {\n",
       "        vertical-align: top;\n",
       "    }\n",
       "</style>\n",
       "<table border=\"1\" class=\"dataframe\">\n",
       "  <thead>\n",
       "    <tr style=\"text-align: right;\">\n",
       "      <th></th>\n",
       "      <th>Target</th>\n",
       "      <th>Molecule_ID</th>\n",
       "      <th>Activity</th>\n",
       "      <th>-log(nm)</th>\n",
       "      <th>SMILES</th>\n",
       "      <th>binder</th>\n",
       "      <th>Mols</th>\n",
       "      <th>Fingerprints</th>\n",
       "      <th>TanimotoSimilarity</th>\n",
       "    </tr>\n",
       "  </thead>\n",
       "  <tbody>\n",
       "    <tr>\n",
       "      <th>0</th>\n",
       "      <td>B</td>\n",
       "      <td>0</td>\n",
       "      <td>1.80</td>\n",
       "      <td>8.744727</td>\n",
       "      <td>CC(C)Oc1ccccc1N2CCN(Cc3cccc(c3)C(=O)N4CCCCC4)CC2</td>\n",
       "      <td>True</td>\n",
       "      <td>&lt;rdkit.Chem.rdchem.Mol object at 0x7f4855ac9ad0&gt;</td>\n",
       "      <td>[0, 1, 1, 0, 1, 0, 0, 0, 0, 0, 0, 0, 0, 0, 0, ...</td>\n",
       "      <td>0.175000</td>\n",
       "    </tr>\n",
       "    <tr>\n",
       "      <th>1</th>\n",
       "      <td>B</td>\n",
       "      <td>1</td>\n",
       "      <td>281.50</td>\n",
       "      <td>6.550522</td>\n",
       "      <td>Oc1ccccc1OCCNCc2ccccc2</td>\n",
       "      <td>True</td>\n",
       "      <td>&lt;rdkit.Chem.rdchem.Mol object at 0x7f4855ac9a30&gt;</td>\n",
       "      <td>[0, 0, 0, 0, 0, 0, 0, 0, 0, 0, 0, 0, 0, 1, 0, ...</td>\n",
       "      <td>0.090909</td>\n",
       "    </tr>\n",
       "    <tr>\n",
       "      <th>2</th>\n",
       "      <td>B</td>\n",
       "      <td>2</td>\n",
       "      <td>83.00</td>\n",
       "      <td>7.080922</td>\n",
       "      <td>Oc1ccc2CCC3C(OCCN3CCc4cccs4)c2c1</td>\n",
       "      <td>True</td>\n",
       "      <td>&lt;rdkit.Chem.rdchem.Mol object at 0x7f4855ac94e0&gt;</td>\n",
       "      <td>[0, 0, 0, 1, 0, 0, 0, 0, 0, 0, 0, 0, 0, 0, 1, ...</td>\n",
       "      <td>0.112500</td>\n",
       "    </tr>\n",
       "    <tr>\n",
       "      <th>3</th>\n",
       "      <td>B</td>\n",
       "      <td>3</td>\n",
       "      <td>27.80</td>\n",
       "      <td>7.555955</td>\n",
       "      <td>CS(=O)(=O)Nc1cc(OCCNCc2cccs2)ccc1Cl</td>\n",
       "      <td>True</td>\n",
       "      <td>&lt;rdkit.Chem.rdchem.Mol object at 0x7f4855ac9530&gt;</td>\n",
       "      <td>[0, 0, 0, 0, 0, 0, 0, 0, 0, 0, 1, 0, 0, 1, 1, ...</td>\n",
       "      <td>0.085366</td>\n",
       "    </tr>\n",
       "    <tr>\n",
       "      <th>4</th>\n",
       "      <td>B</td>\n",
       "      <td>4</td>\n",
       "      <td>0.21</td>\n",
       "      <td>9.677781</td>\n",
       "      <td>CCCN1CCOC2C1CCc3ccc(O)cc23</td>\n",
       "      <td>True</td>\n",
       "      <td>&lt;rdkit.Chem.rdchem.Mol object at 0x7f4855ac93f0&gt;</td>\n",
       "      <td>[0, 0, 0, 1, 0, 0, 0, 0, 0, 0, 0, 0, 0, 0, 0, ...</td>\n",
       "      <td>0.121622</td>\n",
       "    </tr>\n",
       "  </tbody>\n",
       "</table>\n",
       "</div>"
      ],
      "text/plain": [
       "  Target  Molecule_ID  Activity  -log(nm)  \\\n",
       "0      B            0      1.80  8.744727   \n",
       "1      B            1    281.50  6.550522   \n",
       "2      B            2     83.00  7.080922   \n",
       "3      B            3     27.80  7.555955   \n",
       "4      B            4      0.21  9.677781   \n",
       "\n",
       "                                             SMILES  binder  \\\n",
       "0  CC(C)Oc1ccccc1N2CCN(Cc3cccc(c3)C(=O)N4CCCCC4)CC2    True   \n",
       "1                            Oc1ccccc1OCCNCc2ccccc2    True   \n",
       "2                  Oc1ccc2CCC3C(OCCN3CCc4cccs4)c2c1    True   \n",
       "3               CS(=O)(=O)Nc1cc(OCCNCc2cccs2)ccc1Cl    True   \n",
       "4                        CCCN1CCOC2C1CCc3ccc(O)cc23    True   \n",
       "\n",
       "                                               Mols  \\\n",
       "0  <rdkit.Chem.rdchem.Mol object at 0x7f4855ac9ad0>   \n",
       "1  <rdkit.Chem.rdchem.Mol object at 0x7f4855ac9a30>   \n",
       "2  <rdkit.Chem.rdchem.Mol object at 0x7f4855ac94e0>   \n",
       "3  <rdkit.Chem.rdchem.Mol object at 0x7f4855ac9530>   \n",
       "4  <rdkit.Chem.rdchem.Mol object at 0x7f4855ac93f0>   \n",
       "\n",
       "                                        Fingerprints  TanimotoSimilarity  \n",
       "0  [0, 1, 1, 0, 1, 0, 0, 0, 0, 0, 0, 0, 0, 0, 0, ...            0.175000  \n",
       "1  [0, 0, 0, 0, 0, 0, 0, 0, 0, 0, 0, 0, 0, 1, 0, ...            0.090909  \n",
       "2  [0, 0, 0, 1, 0, 0, 0, 0, 0, 0, 0, 0, 0, 0, 1, ...            0.112500  \n",
       "3  [0, 0, 0, 0, 0, 0, 0, 0, 0, 0, 1, 0, 0, 1, 1, ...            0.085366  \n",
       "4  [0, 0, 0, 1, 0, 0, 0, 0, 0, 0, 0, 0, 0, 0, 0, ...            0.121622  "
      ]
     },
     "execution_count": 95,
     "metadata": {},
     "output_type": "execute_result"
    }
   ],
   "source": [
    "from rdkit import Chem\n",
    "from rdkit import DataStructs\n",
    "from rdkit.Chem import AllChem\n",
    "\n",
    "query_mol = Chem.MolFromSmiles('OC1(CCN(CCCC(=O)c2ccc(F)cc2)CC1)c3ccc(Cl)cc3') # construct query molecule using SMILES\n",
    "data['Mols'] = [Chem.MolFromSmiles(s) for s in data['SMILES']] # construct given molecules usinf SMILES\n",
    "\n",
    "radius = 2 \n",
    "query_fp = AllChem.GetMorganFingerprintAsBitVect(query_mol, radius, nBits = 1024) # generate ECFP 1024bit fingerprint for query molecule\n",
    "data['Fingerprints'] = [AllChem.GetMorganFingerprintAsBitVect(m, radius, nBits = 1024) for m in data['Mols']] # generate ECFP 1024bit fingerprint for given molecules\n",
    "\n",
    "data['TanimotoSimilarity'] = [DataStructs.FingerprintSimilarity(query_fp, fp) for fp in fps] # calculate the Tanimoto Similarity(TS)\n",
    "\n",
    "data.head()"
   ]
  },
  {
   "cell_type": "markdown",
   "metadata": {},
   "source": [
    "### 3. Plot each molecule using the similarity to the query molecule (TS) as a function of Activity(-log(nm))"
   ]
  },
  {
   "cell_type": "code",
   "execution_count": 96,
   "metadata": {
    "scrolled": true
   },
   "outputs": [
    {
     "data": {
      "image/png": "[encoded data removed]",
      "text/plain": [
       "<matplotlib.figure.Figure at 0x7f48560009e8>"
      ]
     },
     "metadata": {},
     "output_type": "display_data"
    }
   ],
   "source": [
    "import matplotlib.pyplot as plt\n",
    "import seaborn as sns\n",
    "\n",
    "sns.jointplot(x = '-log(nm)', y = 'TanimotoSimilarity', data = data) # plot: TS vs -log(nm)\n",
    "plt.show()"
   ]
  },
  {
   "cell_type": "markdown",
   "metadata": {},
   "source": [
    "Intuitively, the query molecule is more similiar to the molecules with higher -log(nm), so I think it can be considered as a binder to the protein"
   ]
  },
  {
   "cell_type": "markdown",
   "metadata": {},
   "source": [
    "### 4. Train random forest and support vector machine classifier"
   ]
  },
  {
   "cell_type": "markdown",
   "metadata": {},
   "source": [
    "4.1 Random Forest "
   ]
  },
  {
   "cell_type": "markdown",
   "metadata": {},
   "source": [
    "4.1.1 regressor:"
   ]
  },
  {
   "cell_type": "code",
   "execution_count": 97,
   "metadata": {
    "scrolled": true
   },
   "outputs": [
    {
     "data": {
      "text/plain": [
       "RandomForestRegressor(bootstrap=True, criterion='mse', max_depth=10,\n",
       "           max_features='auto', max_leaf_nodes=None,\n",
       "           min_impurity_decrease=0.0, min_impurity_split=None,\n",
       "           min_samples_leaf=1, min_samples_split=2,\n",
       "           min_weight_fraction_leaf=0.0, n_estimators=100, n_jobs=1,\n",
       "           oob_score=False, random_state=0, verbose=0, warm_start=False)"
      ]
     },
     "execution_count": 97,
     "metadata": {},
     "output_type": "execute_result"
    }
   ],
   "source": [
    "from sklearn.ensemble import RandomForestRegressor\n",
    "\n",
    "rf_regressor = RandomForestRegressor(n_estimators=100, max_depth=10, random_state=0)\n",
    "rf_regressor.fit(list(data['Fingerprints']), data['-log(nm)'])"
   ]
  },
  {
   "cell_type": "code",
   "execution_count": 98,
   "metadata": {
    "scrolled": true
   },
   "outputs": [
    {
     "data": {
      "text/plain": [
       "array([ 6.97609107])"
      ]
     },
     "execution_count": 98,
     "metadata": {},
     "output_type": "execute_result"
    }
   ],
   "source": [
    "rf_regressor.predict([query_fp])"
   ]
  },
  {
   "cell_type": "markdown",
   "metadata": {},
   "source": [
    "4.1.2 classifier:"
   ]
  },
  {
   "cell_type": "code",
   "execution_count": 99,
   "metadata": {},
   "outputs": [
    {
     "data": {
      "text/plain": [
       "RandomForestClassifier(bootstrap=True, class_weight=None, criterion='gini',\n",
       "            max_depth=10, max_features='auto', max_leaf_nodes=None,\n",
       "            min_impurity_decrease=0.0, min_impurity_split=None,\n",
       "            min_samples_leaf=1, min_samples_split=2,\n",
       "            min_weight_fraction_leaf=0.0, n_estimators=100, n_jobs=1,\n",
       "            oob_score=False, random_state=0, verbose=0, warm_start=False)"
      ]
     },
     "execution_count": 99,
     "metadata": {},
     "output_type": "execute_result"
    }
   ],
   "source": [
    "from sklearn.ensemble import RandomForestClassifier\n",
    "\n",
    "rf_classifier = RandomForestClassifier(n_estimators=100, max_depth=10, random_state=0)\n",
    "rf_classifier.fit(list(data['Fingerprints']), data['binder'])"
   ]
  },
  {
   "cell_type": "code",
   "execution_count": 100,
   "metadata": {},
   "outputs": [
    {
     "data": {
      "text/plain": [
       "array([ True], dtype=bool)"
      ]
     },
     "execution_count": 100,
     "metadata": {},
     "output_type": "execute_result"
    }
   ],
   "source": [
    "rf_classifier.predict([query_fp])"
   ]
  },
  {
   "cell_type": "markdown",
   "metadata": {},
   "source": [
    "4.2 SVM:"
   ]
  },
  {
   "cell_type": "markdown",
   "metadata": {},
   "source": [
    "4.2.1 regressor:"
   ]
  },
  {
   "cell_type": "code",
   "execution_count": 101,
   "metadata": {},
   "outputs": [
    {
     "data": {
      "text/plain": [
       "SVR(C=1.0, cache_size=200, coef0=0.0, degree=3, epsilon=0.1, gamma='auto',\n",
       "  kernel='rbf', max_iter=-1, shrinking=True, tol=0.001, verbose=False)"
      ]
     },
     "execution_count": 101,
     "metadata": {},
     "output_type": "execute_result"
    }
   ],
   "source": [
    "from sklearn import svm\n",
    "svr_model = svm.SVR()\n",
    "svr_model.fit(list(data['Fingerprints']), data['-log(nm)'])"
   ]
  },
  {
   "cell_type": "code",
   "execution_count": 102,
   "metadata": {
    "scrolled": false
   },
   "outputs": [
    {
     "data": {
      "text/plain": [
       "array([ 7.20508719])"
      ]
     },
     "execution_count": 102,
     "metadata": {},
     "output_type": "execute_result"
    }
   ],
   "source": [
    "svr.predict([query_fp])"
   ]
  },
  {
   "cell_type": "markdown",
   "metadata": {},
   "source": [
    "4.2.2 classifier:"
   ]
  },
  {
   "cell_type": "code",
   "execution_count": 103,
   "metadata": {},
   "outputs": [
    {
     "data": {
      "text/plain": [
       "SVC(C=1.0, cache_size=200, class_weight=None, coef0=0.0,\n",
       "  decision_function_shape='ovr', degree=3, gamma='auto', kernel='rbf',\n",
       "  max_iter=-1, probability=False, random_state=None, shrinking=True,\n",
       "  tol=0.001, verbose=False)"
      ]
     },
     "execution_count": 103,
     "metadata": {},
     "output_type": "execute_result"
    }
   ],
   "source": [
    "svc_model = svm.SVC()\n",
    "svc_model.fit(list(data['Fingerprints']), data['binder'])"
   ]
  },
  {
   "cell_type": "code",
   "execution_count": 104,
   "metadata": {},
   "outputs": [
    {
     "data": {
      "text/plain": [
       "array([ True], dtype=bool)"
      ]
     },
     "execution_count": 104,
     "metadata": {},
     "output_type": "execute_result"
    }
   ],
   "source": [
    "svc_model.predict([query_fp])"
   ]
  }
 ],
 "metadata": {
  "kernelspec": {
   "display_name": "Python 3",
   "language": "python",
   "name": "python3"
  },
  "language_info": {
   "codemirror_mode": {
    "name": "ipython",
    "version": 3
   },
   "file_extension": ".py",
   "mimetype": "text/x-python",
   "name": "python",
   "nbconvert_exporter": "python",
   "pygments_lexer": "ipython3",
   "version": "3.6.3"
  }
 },
 "nbformat": 4,
 "nbformat_minor": 2
}
